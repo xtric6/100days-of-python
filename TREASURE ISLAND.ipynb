{
 "cells": [
  {
   "cell_type": "code",
   "execution_count": 6,
   "id": "f1d8e8bd",
   "metadata": {},
   "outputs": [
    {
     "name": "stdout",
     "output_type": "stream",
     "text": [
      "WELCOME TO TREASURE ISLAND, YOUR MISSION IS TO FIND THE TREASURE\n",
      "What path do you want to take? R or L? l\n",
      "You are at the junction and a crocodile is passing.Will you like to swim or wait? \n",
      "wait\n",
      "There are three doors in front of you, Which will you like to enter? BLUE or GREEN OR YELLOW? red\n",
      "Its a room full of fire. GAME OVER!\n"
     ]
    }
   ],
   "source": [
    "print('WELCOME TO TREASURE ISLAND, YOUR MISSION IS TO FIND THE TREASURE')\n",
    "\n",
    "\n",
    "#swim = input('You are at the junction and a crocodile is passing.Will you like to swim or wait? ').lower()\n",
    "#door = input('There are three doors in front of you, Which will you like to enter? BLUE or GREEN OR YELLOW? ').lower()\n",
    "\n",
    "choice1 = input('What path do you want to take? R or L? \\n').lower()\n",
    "if choice1 == 'l':\n",
    "    choice2 = input('You are at the junction and a crocodile is passing.Will you like to swim or wait? \\n').lower()\n",
    "    if choice2 == 'wait':\n",
    "        choice3 = input('There are three doors in front of you, Which will you like to enter? RED or GREEN OR YELLOW? \\n').lower()\n",
    "        if choice3 == 'yellow':\n",
    "            print('YOU HAVE WON....YIPEE!!!')\n",
    "        elif choice3 == 'red':\n",
    "            print('Its a room full of fire. GAME OVER!')\n",
    "        elif choice3 == 'green':\n",
    "            print('You just entered an evil forest. GAME OVER!')\n",
    "        else:\n",
    "            print('You entred a door filled with bees. GAME OVER!')\n",
    "    else:\n",
    "        print('You got eaten by a hungry crocodiles. GAME OVER!')\n",
    "else:\n",
    "    print('Wrong Turn. GAME OVER!')\n",
    "    "
   ]
  },
  {
   "cell_type": "code",
   "execution_count": null,
   "id": "d415097e",
   "metadata": {},
   "outputs": [],
   "source": []
  }
 ],
 "metadata": {
  "kernelspec": {
   "display_name": "Python 3 (ipykernel)",
   "language": "python",
   "name": "python3"
  },
  "language_info": {
   "codemirror_mode": {
    "name": "ipython",
    "version": 3
   },
   "file_extension": ".py",
   "mimetype": "text/x-python",
   "name": "python",
   "nbconvert_exporter": "python",
   "pygments_lexer": "ipython3",
   "version": "3.9.12"
  }
 },
 "nbformat": 4,
 "nbformat_minor": 5
}
