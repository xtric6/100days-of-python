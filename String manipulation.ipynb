{
 "cells": [
  {
   "cell_type": "code",
   "execution_count": 1,
   "id": "17308bf7",
   "metadata": {},
   "outputs": [
    {
     "name": "stdout",
     "output_type": "stream",
     "text": [
      "hello world\n",
      "Hello world\n"
     ]
    }
   ],
   "source": [
    "print('hello world\\nHello world')"
   ]
  },
  {
   "cell_type": "code",
   "execution_count": 10,
   "id": "a93d2387",
   "metadata": {},
   "outputs": [],
   "source": [
    "word = 'heY What is going oN'"
   ]
  },
  {
   "cell_type": "code",
   "execution_count": 11,
   "id": "364e9c59",
   "metadata": {},
   "outputs": [
    {
     "data": {
      "text/plain": [
       "'Hey what is going on'"
      ]
     },
     "execution_count": 11,
     "metadata": {},
     "output_type": "execute_result"
    }
   ],
   "source": [
    "word.capitalize() #makes the first letter of the first word in a stringn an uppercase and make other letters lowercase"
   ]
  },
  {
   "cell_type": "code",
   "execution_count": 12,
   "id": "2329a840",
   "metadata": {},
   "outputs": [
    {
     "data": {
      "text/plain": [
       "'hey what is going on'"
      ]
     },
     "execution_count": 12,
     "metadata": {},
     "output_type": "execute_result"
    }
   ],
   "source": [
    "word.casefold() #This method is similar to the lower() method, but the casefold() method is stronger, more aggressive, meaning that it will convert more characters into lower case, and will find more matches when comparing two strings and both are converted using the casefold() method."
   ]
  },
  {
   "cell_type": "code",
   "execution_count": 47,
   "id": "1bc15658",
   "metadata": {},
   "outputs": [
    {
     "data": {
      "text/plain": [
       "'<<<<<heY What is going oN<<<<<'"
      ]
     },
     "execution_count": 47,
     "metadata": {},
     "output_type": "execute_result"
    }
   ],
   "source": [
    "word.center(30 ,'<') #returns a centered string"
   ]
  },
  {
   "cell_type": "code",
   "execution_count": 48,
   "id": "20402c84",
   "metadata": {},
   "outputs": [
    {
     "name": "stdout",
     "output_type": "stream",
     "text": [
      "|||||||||+|||||||||||||||||||+|||||||||||||||||||+|||||||||||||||||||+|||||||||||||||||||+||||||||||\n",
      "||||||||...|||||||||||||||||...|||||||||||||||||...|||||||||||||||||...|||||||||||||||||...|||||||||\n",
      "|||||||*****|||||||||||||||*****|||||||||||||||*****|||||||||||||||*****|||||||||||||||*****||||||||\n",
      "|||||.........|||||||||||.........|||||||||||.........|||||||||||.........|||||||||||.........||||||\n",
      "||||::::::::::::||||||||::::::::::::||||||||::::::::::::||||||||::::::::::::||||||||::::::::::::||||\n",
      "|||**************||||||**************||||||**************||||||**************||||||**************|||\n"
     ]
    }
   ],
   "source": [
    "print('+'.center(20,'|')*5)\n",
    "print('...'.center(20,'|')*5)\n",
    "print('*****'.center(20,'|')*5)\n",
    "print('.........'.center(20,'|')*5)\n",
    "print('::::::::::::'.center(20,'|')*5)\n",
    "print('**************'.center(20,'|')*5)\n",
    "\n"
   ]
  },
  {
   "cell_type": "code",
   "execution_count": 59,
   "id": "42d24175",
   "metadata": {},
   "outputs": [
    {
     "data": {
      "text/plain": [
       "1"
      ]
     },
     "execution_count": 59,
     "metadata": {},
     "output_type": "execute_result"
    }
   ],
   "source": [
    "word.count('o',15) #The count() method returns the number of times a specified value appears in the string."
   ]
  },
  {
   "cell_type": "code",
   "execution_count": 62,
   "id": "b5faee39",
   "metadata": {},
   "outputs": [],
   "source": [
    "word1 = '8iun 77$$'"
   ]
  },
  {
   "cell_type": "code",
   "execution_count": 64,
   "id": "e702f04e",
   "metadata": {},
   "outputs": [
    {
     "data": {
      "text/plain": [
       "b'8iun 77$$'"
      ]
     },
     "execution_count": 64,
     "metadata": {},
     "output_type": "execute_result"
    }
   ],
   "source": [
    "word1.encode()"
   ]
  },
  {
   "cell_type": "code",
   "execution_count": 66,
   "id": "80d9fa06",
   "metadata": {},
   "outputs": [
    {
     "data": {
      "text/plain": [
       "False"
      ]
     },
     "execution_count": 66,
     "metadata": {},
     "output_type": "execute_result"
    }
   ],
   "source": [
    "word.endswith('l') #returnts true if the string ends with the specified character"
   ]
  },
  {
   "cell_type": "code",
   "execution_count": 67,
   "id": "208651db",
   "metadata": {},
   "outputs": [
    {
     "data": {
      "text/plain": [
       "True"
      ]
     },
     "execution_count": 67,
     "metadata": {},
     "output_type": "execute_result"
    }
   ],
   "source": [
    "word.endswith('N')"
   ]
  },
  {
   "cell_type": "code",
   "execution_count": 69,
   "id": "cb25ab46",
   "metadata": {},
   "outputs": [
    {
     "data": {
      "text/plain": [
       "False"
      ]
     },
     "execution_count": 69,
     "metadata": {},
     "output_type": "execute_result"
    }
   ],
   "source": [
    "word.endswith('n')"
   ]
  },
  {
   "cell_type": "code",
   "execution_count": 75,
   "id": "f4ce1fac",
   "metadata": {},
   "outputs": [],
   "source": [
    "word2 = 'A\\tp\\tp\\tl\\te'"
   ]
  },
  {
   "cell_type": "code",
   "execution_count": 76,
   "id": "2a15ab70",
   "metadata": {},
   "outputs": [
    {
     "data": {
      "text/plain": [
       "'A        p        p        l        e'"
      ]
     },
     "execution_count": 76,
     "metadata": {},
     "output_type": "execute_result"
    }
   ],
   "source": [
    "word2.expandtabs(9) #expands the tab size"
   ]
  },
  {
   "cell_type": "code",
   "execution_count": 77,
   "id": "66427185",
   "metadata": {},
   "outputs": [
    {
     "data": {
      "text/plain": [
       "13"
      ]
     },
     "execution_count": 77,
     "metadata": {},
     "output_type": "execute_result"
    }
   ],
   "source": [
    "word.find('o') #returns lowst index of the spcified letter where the substring is found"
   ]
  },
  {
   "cell_type": "code",
   "execution_count": 79,
   "id": "f88544c9",
   "metadata": {},
   "outputs": [],
   "source": [
    "price = 23\n",
    "name = 'Esther'\n"
   ]
  },
  {
   "cell_type": "code",
   "execution_count": 81,
   "id": "652ff63f",
   "metadata": {},
   "outputs": [
    {
     "data": {
      "text/plain": [
       "'My name is Esther and my price is 23'"
      ]
     },
     "execution_count": 81,
     "metadata": {},
     "output_type": "execute_result"
    }
   ],
   "source": [
    "'My name is {name} and my price is {price}'.format(name=name,price=price)"
   ]
  },
  {
   "cell_type": "code",
   "execution_count": 84,
   "id": "4787275c",
   "metadata": {},
   "outputs": [],
   "source": [
    "fruit_dict = {'apple':'$23','pineapple':'$34'}"
   ]
  },
  {
   "cell_type": "code",
   "execution_count": 86,
   "id": "a99da6b6",
   "metadata": {},
   "outputs": [
    {
     "name": "stdout",
     "output_type": "stream",
     "text": [
      "The price of the green fruit is $23 and the price of the yellow fruit is $34\n"
     ]
    }
   ],
   "source": [
    "print('The price of the green fruit is {apple} and the price of the yellow fruit is {pineapple}'.format_map(fruit_dict))"
   ]
  },
  {
   "cell_type": "code",
   "execution_count": 90,
   "id": "b6ef12ee",
   "metadata": {},
   "outputs": [
    {
     "data": {
      "text/plain": [
       "13"
      ]
     },
     "execution_count": 90,
     "metadata": {},
     "output_type": "execute_result"
    }
   ],
   "source": [
    "word.index('o') "
   ]
  },
  {
   "cell_type": "code",
   "execution_count": 91,
   "id": "d44674c4",
   "metadata": {},
   "outputs": [
    {
     "data": {
      "text/plain": [
       "False"
      ]
     },
     "execution_count": 91,
     "metadata": {},
     "output_type": "execute_result"
    }
   ],
   "source": [
    "word.isalnum()"
   ]
  },
  {
   "cell_type": "code",
   "execution_count": 92,
   "id": "f3b78856",
   "metadata": {},
   "outputs": [
    {
     "data": {
      "text/plain": [
       "False"
      ]
     },
     "execution_count": 92,
     "metadata": {},
     "output_type": "execute_result"
    }
   ],
   "source": [
    "word.isalpha()"
   ]
  },
  {
   "cell_type": "code",
   "execution_count": 93,
   "id": "80e5ac2d",
   "metadata": {},
   "outputs": [
    {
     "data": {
      "text/plain": [
       "True"
      ]
     },
     "execution_count": 93,
     "metadata": {},
     "output_type": "execute_result"
    }
   ],
   "source": [
    "word.isascii()"
   ]
  },
  {
   "cell_type": "code",
   "execution_count": 94,
   "id": "a98fae58",
   "metadata": {},
   "outputs": [
    {
     "data": {
      "text/plain": [
       "True"
      ]
     },
     "execution_count": 94,
     "metadata": {},
     "output_type": "execute_result"
    }
   ],
   "source": [
    "'%'.isascii()"
   ]
  },
  {
   "cell_type": "code",
   "execution_count": 95,
   "id": "aa132f76",
   "metadata": {},
   "outputs": [
    {
     "data": {
      "text/plain": [
       "False"
      ]
     },
     "execution_count": 95,
     "metadata": {},
     "output_type": "execute_result"
    }
   ],
   "source": [
    "word.isdecimal()"
   ]
  },
  {
   "cell_type": "code",
   "execution_count": 96,
   "id": "9cb48fe6",
   "metadata": {},
   "outputs": [
    {
     "data": {
      "text/plain": [
       "False"
      ]
     },
     "execution_count": 96,
     "metadata": {},
     "output_type": "execute_result"
    }
   ],
   "source": [
    "'0.lwke'.isdecimal()"
   ]
  },
  {
   "cell_type": "code",
   "execution_count": 100,
   "id": "fe1cc80c",
   "metadata": {},
   "outputs": [
    {
     "data": {
      "text/plain": [
       "True"
      ]
     },
     "execution_count": 100,
     "metadata": {},
     "output_type": "execute_result"
    }
   ],
   "source": [
    "'9'.isdecimal() #The isdecimal() method returns True if all the characters are decimals (0-9).\n",
    "\n",
    "#This method is used on unicode objects."
   ]
  },
  {
   "cell_type": "code",
   "execution_count": 101,
   "id": "eb6d2d0e",
   "metadata": {},
   "outputs": [
    {
     "name": "stdout",
     "output_type": "stream",
     "text": [
      "True\n"
     ]
    }
   ],
   "source": [
    "txt = \"\\u0033\" #unicode for 3\n",
    "\n",
    "x = txt.isdecimal()\n",
    "\n",
    "print(x)"
   ]
  },
  {
   "cell_type": "code",
   "execution_count": 102,
   "id": "1b4bdaf1",
   "metadata": {},
   "outputs": [
    {
     "data": {
      "text/plain": [
       "b'3'"
      ]
     },
     "execution_count": 102,
     "metadata": {},
     "output_type": "execute_result"
    }
   ],
   "source": [
    "\"\\u0033\".encode()"
   ]
  },
  {
   "cell_type": "code",
   "execution_count": 129,
   "id": "9ce3db8c",
   "metadata": {},
   "outputs": [
    {
     "name": "stdout",
     "output_type": "stream",
     "text": [
      "For only 49,000,000 dollars!\n"
     ]
    }
   ],
   "source": [
    "txt = \"For only {price:,} dollars!\"\n",
    "print(txt.format(price = 49000000))"
   ]
  },
  {
   "cell_type": "code",
   "execution_count": 137,
   "id": "1875eaea",
   "metadata": {},
   "outputs": [
    {
     "name": "stdout",
     "output_type": "stream",
     "text": [
      "For only  49.00 dollars!\n"
     ]
    }
   ],
   "source": [
    "txt1 = \"For only {price: .2f} dollars!\"\n",
    "print(txt1.format(price = 49))"
   ]
  },
  {
   "cell_type": "code",
   "execution_count": 138,
   "id": "e0e07c6f",
   "metadata": {},
   "outputs": [
    {
     "data": {
      "text/plain": [
       "['heY', 'What', 'is', 'going', 'oN']"
      ]
     },
     "execution_count": 138,
     "metadata": {},
     "output_type": "execute_result"
    }
   ],
   "source": [
    "word.split()"
   ]
  },
  {
   "cell_type": "code",
   "execution_count": 141,
   "id": "a6fec640",
   "metadata": {},
   "outputs": [
    {
     "data": {
      "text/plain": [
       "'heY What is going oN'"
      ]
     },
     "execution_count": 141,
     "metadata": {},
     "output_type": "execute_result"
    }
   ],
   "source": [
    "word.zfill(20)"
   ]
  },
  {
   "cell_type": "code",
   "execution_count": 143,
   "id": "c6469dbb",
   "metadata": {},
   "outputs": [
    {
     "data": {
      "text/plain": [
       "'00000050'"
      ]
     },
     "execution_count": 143,
     "metadata": {},
     "output_type": "execute_result"
    }
   ],
   "source": [
    "word3 = '50'\n",
    "word3.zfill(8)"
   ]
  },
  {
   "cell_type": "code",
   "execution_count": 144,
   "id": "0924877e",
   "metadata": {},
   "outputs": [
    {
     "data": {
      "text/plain": [
       "'00000hey'"
      ]
     },
     "execution_count": 144,
     "metadata": {},
     "output_type": "execute_result"
    }
   ],
   "source": [
    "word4 = 'hey'\n",
    "word4.zfill(8)"
   ]
  },
  {
   "cell_type": "code",
   "execution_count": 164,
   "id": "188c0fb8",
   "metadata": {},
   "outputs": [
    {
     "data": {
      "text/plain": [
       "'heY What is going oN'"
      ]
     },
     "execution_count": 164,
     "metadata": {},
     "output_type": "execute_result"
    }
   ],
   "source": [
    "word"
   ]
  },
  {
   "cell_type": "code",
   "execution_count": 173,
   "id": "a555845d",
   "metadata": {},
   "outputs": [],
   "source": [
    "my_dict = {87:  90}\n",
    "word5 = \"heY What\"\n"
   ]
  },
  {
   "cell_type": "code",
   "execution_count": 176,
   "id": "0e5afb67",
   "metadata": {},
   "outputs": [
    {
     "name": "stdout",
     "output_type": "stream",
     "text": [
      "heY Zhat\n"
     ]
    }
   ],
   "source": [
    "print(word5.translate(my_dict))"
   ]
  },
  {
   "cell_type": "code",
   "execution_count": 177,
   "id": "8167972b",
   "metadata": {},
   "outputs": [
    {
     "name": "stdout",
     "output_type": "stream",
     "text": [
      "Hello Qam!\n"
     ]
    }
   ],
   "source": [
    "#use a dictionary with ascii codes to replace 83 (S) with 80 (P):\n",
    "mydict = {83:  81}\n",
    "\n",
    "txt = \"Hello Sam!\"\n",
    "\n",
    "print(txt.translate(mydict))"
   ]
  },
  {
   "cell_type": "code",
   "execution_count": 178,
   "id": "6ae0727f",
   "metadata": {},
   "outputs": [
    {
     "data": {
      "text/plain": [
       "'Hey What Is Going On'"
      ]
     },
     "execution_count": 178,
     "metadata": {},
     "output_type": "execute_result"
    }
   ],
   "source": [
    "word.title()"
   ]
  },
  {
   "cell_type": "code",
   "execution_count": null,
   "id": "6601d649",
   "metadata": {},
   "outputs": [],
   "source": []
  }
 ],
 "metadata": {
  "kernelspec": {
   "display_name": "Python 3 (ipykernel)",
   "language": "python",
   "name": "python3"
  },
  "language_info": {
   "codemirror_mode": {
    "name": "ipython",
    "version": 3
   },
   "file_extension": ".py",
   "mimetype": "text/x-python",
   "name": "python",
   "nbconvert_exporter": "python",
   "pygments_lexer": "ipython3",
   "version": "3.9.12"
  }
 },
 "nbformat": 4,
 "nbformat_minor": 5
}
