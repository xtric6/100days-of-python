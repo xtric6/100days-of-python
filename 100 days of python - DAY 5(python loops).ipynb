{
 "cells": [
  {
   "cell_type": "markdown",
   "id": "3f2a0e33",
   "metadata": {},
   "source": [
    "## Python Loops Day-5"
   ]
  },
  {
   "cell_type": "code",
   "execution_count": 1,
   "id": "36f52ff3",
   "metadata": {},
   "outputs": [
    {
     "name": "stdout",
     "output_type": "stream",
     "text": [
      "apPLE\n",
      "oraNGE\n",
      "pEAR\n"
     ]
    }
   ],
   "source": [
    "#task: change the last three leters to capital letters\n",
    "fruits = ['apple','orange','pear']\n",
    "new=[]\n",
    "for fruit in fruits:\n",
    "    fruit = fruit[:-3] + fruit[-3:].upper() \n",
    "    print(fruit)"
   ]
  },
  {
   "cell_type": "markdown",
   "id": "2f272db6",
   "metadata": {},
   "source": [
    "##### Ex1: Average height(Write a program that calaculates the avearge list of heights from a group of heights)"
   ]
  },
  {
   "cell_type": "code",
   "execution_count": 2,
   "id": "176d17b7",
   "metadata": {},
   "outputs": [
    {
     "ename": "KeyboardInterrupt",
     "evalue": "Interrupted by user",
     "output_type": "error",
     "traceback": [
      "\u001b[1;31m---------------------------------------------------------------------------\u001b[0m",
      "\u001b[1;31mKeyboardInterrupt\u001b[0m                         Traceback (most recent call last)",
      "\u001b[1;32m~\\AppData\\Local\\Temp/ipykernel_13116/3683673780.py\u001b[0m in \u001b[0;36m<module>\u001b[1;34m\u001b[0m\n\u001b[1;32m----> 1\u001b[1;33m \u001b[0mstudents_height\u001b[0m \u001b[1;33m=\u001b[0m \u001b[0minput\u001b[0m\u001b[1;33m(\u001b[0m\u001b[1;34m\"input student heights in cm\"\u001b[0m\u001b[1;33m)\u001b[0m\u001b[1;33m.\u001b[0m\u001b[0msplit\u001b[0m\u001b[1;33m(\u001b[0m\u001b[1;33m)\u001b[0m\u001b[1;33m\u001b[0m\u001b[1;33m\u001b[0m\u001b[0m\n\u001b[0m\u001b[0;32m      2\u001b[0m \u001b[1;32mfor\u001b[0m \u001b[0mn\u001b[0m \u001b[1;32min\u001b[0m \u001b[0mstudents_height\u001b[0m\u001b[1;33m:\u001b[0m\u001b[1;33m\u001b[0m\u001b[1;33m\u001b[0m\u001b[0m\n\u001b[0;32m      3\u001b[0m     \u001b[0mstudents_height\u001b[0m \u001b[1;33m=\u001b[0m \u001b[1;33m[\u001b[0m\u001b[0mint\u001b[0m\u001b[1;33m(\u001b[0m\u001b[0mn\u001b[0m\u001b[1;33m)\u001b[0m \u001b[1;32mfor\u001b[0m \u001b[0mn\u001b[0m \u001b[1;32min\u001b[0m \u001b[0mstudents_height\u001b[0m\u001b[1;33m]\u001b[0m\u001b[1;33m\u001b[0m\u001b[1;33m\u001b[0m\u001b[0m\n\u001b[0;32m      4\u001b[0m     \u001b[0mresult\u001b[0m \u001b[1;33m=\u001b[0m \u001b[0mround\u001b[0m\u001b[1;33m(\u001b[0m\u001b[0msum\u001b[0m\u001b[1;33m(\u001b[0m\u001b[0mstudents_height\u001b[0m\u001b[1;33m)\u001b[0m\u001b[1;33m/\u001b[0m\u001b[0mlen\u001b[0m\u001b[1;33m(\u001b[0m\u001b[0mstudents_height\u001b[0m\u001b[1;33m)\u001b[0m\u001b[1;33m)\u001b[0m\u001b[1;33m\u001b[0m\u001b[1;33m\u001b[0m\u001b[0m\n\u001b[0;32m      5\u001b[0m \u001b[0mprint\u001b[0m\u001b[1;33m(\u001b[0m\u001b[1;34mf\"The average student height is {result}cm\"\u001b[0m\u001b[1;33m)\u001b[0m\u001b[1;33m\u001b[0m\u001b[1;33m\u001b[0m\u001b[0m\n",
      "\u001b[1;32m~\\anaconda3\\lib\\site-packages\\ipykernel\\kernelbase.py\u001b[0m in \u001b[0;36mraw_input\u001b[1;34m(self, prompt)\u001b[0m\n\u001b[0;32m   1004\u001b[0m                 \u001b[1;34m\"raw_input was called, but this frontend does not support input requests.\"\u001b[0m\u001b[1;33m\u001b[0m\u001b[1;33m\u001b[0m\u001b[0m\n\u001b[0;32m   1005\u001b[0m             )\n\u001b[1;32m-> 1006\u001b[1;33m         return self._input_request(\n\u001b[0m\u001b[0;32m   1007\u001b[0m             \u001b[0mstr\u001b[0m\u001b[1;33m(\u001b[0m\u001b[0mprompt\u001b[0m\u001b[1;33m)\u001b[0m\u001b[1;33m,\u001b[0m\u001b[1;33m\u001b[0m\u001b[1;33m\u001b[0m\u001b[0m\n\u001b[0;32m   1008\u001b[0m             \u001b[0mself\u001b[0m\u001b[1;33m.\u001b[0m\u001b[0m_parent_ident\u001b[0m\u001b[1;33m[\u001b[0m\u001b[1;34m\"shell\"\u001b[0m\u001b[1;33m]\u001b[0m\u001b[1;33m,\u001b[0m\u001b[1;33m\u001b[0m\u001b[1;33m\u001b[0m\u001b[0m\n",
      "\u001b[1;32m~\\anaconda3\\lib\\site-packages\\ipykernel\\kernelbase.py\u001b[0m in \u001b[0;36m_input_request\u001b[1;34m(self, prompt, ident, parent, password)\u001b[0m\n\u001b[0;32m   1049\u001b[0m             \u001b[1;32mexcept\u001b[0m \u001b[0mKeyboardInterrupt\u001b[0m\u001b[1;33m:\u001b[0m\u001b[1;33m\u001b[0m\u001b[1;33m\u001b[0m\u001b[0m\n\u001b[0;32m   1050\u001b[0m                 \u001b[1;31m# re-raise KeyboardInterrupt, to truncate traceback\u001b[0m\u001b[1;33m\u001b[0m\u001b[1;33m\u001b[0m\u001b[0m\n\u001b[1;32m-> 1051\u001b[1;33m                 \u001b[1;32mraise\u001b[0m \u001b[0mKeyboardInterrupt\u001b[0m\u001b[1;33m(\u001b[0m\u001b[1;34m\"Interrupted by user\"\u001b[0m\u001b[1;33m)\u001b[0m \u001b[1;32mfrom\u001b[0m \u001b[1;32mNone\u001b[0m\u001b[1;33m\u001b[0m\u001b[1;33m\u001b[0m\u001b[0m\n\u001b[0m\u001b[0;32m   1052\u001b[0m             \u001b[1;32mexcept\u001b[0m \u001b[0mException\u001b[0m\u001b[1;33m:\u001b[0m\u001b[1;33m\u001b[0m\u001b[1;33m\u001b[0m\u001b[0m\n\u001b[0;32m   1053\u001b[0m                 \u001b[0mself\u001b[0m\u001b[1;33m.\u001b[0m\u001b[0mlog\u001b[0m\u001b[1;33m.\u001b[0m\u001b[0mwarning\u001b[0m\u001b[1;33m(\u001b[0m\u001b[1;34m\"Invalid Message:\"\u001b[0m\u001b[1;33m,\u001b[0m \u001b[0mexc_info\u001b[0m\u001b[1;33m=\u001b[0m\u001b[1;32mTrue\u001b[0m\u001b[1;33m)\u001b[0m\u001b[1;33m\u001b[0m\u001b[1;33m\u001b[0m\u001b[0m\n",
      "\u001b[1;31mKeyboardInterrupt\u001b[0m: Interrupted by user"
     ]
    }
   ],
   "source": [
    "students_height = input(\"input student heights in cm\").split()\n",
    "for n in students_height:\n",
    "    students_height = [int(n) for n in students_height]\n",
    "    result = round(sum(students_height)/len(students_height))\n",
    "print(f\"The average student height is {result}cm\")"
   ]
  },
  {
   "cell_type": "markdown",
   "id": "7d113c53",
   "metadata": {},
   "source": [
    "##### EX2: Write a code that takes a range of values and return the highest number/score in a list"
   ]
  },
  {
   "cell_type": "code",
   "execution_count": null,
   "id": "558abde8",
   "metadata": {},
   "outputs": [],
   "source": [
    "student_scores = input(\"input student score: \").split()\n",
    "for student_score in student_scores:\n",
    "    student_scores = [int(student_score) for student_score in student_scores]\n",
    "    result = max(student_scores)\n",
    "print(f\"The highest score is {result}%\")"
   ]
  },
  {
   "cell_type": "code",
   "execution_count": null,
   "id": "674237b1",
   "metadata": {},
   "outputs": [],
   "source": [
    "#angela's solution\n",
    "student_scores = input(\"input student score: \").split()\n",
    "student_scores = [int(student_score) for student_score in student_scores]\n",
    "highest_score = 0\n",
    "for score in student_scores:\n",
    "    if int(score) > highest_score:\n",
    "        highest_score= score\n",
    "print(f\"The highest score in the class is {highest_score}%\")"
   ]
  },
  {
   "cell_type": "markdown",
   "id": "b7374a12",
   "metadata": {},
   "source": [
    "##### adding numbers 1 - 100"
   ]
  },
  {
   "cell_type": "code",
   "execution_count": null,
   "id": "6ecf71fa",
   "metadata": {
    "scrolled": true
   },
   "outputs": [],
   "source": [
    "total = 0\n",
    "for num in range(1,101):\n",
    "    total+=num\n",
    "print(total)"
   ]
  },
  {
   "cell_type": "markdown",
   "id": "ae190c84",
   "metadata": {},
   "source": [
    "##### EX2: write a code that adds even numbers between 1 -100"
   ]
  },
  {
   "cell_type": "code",
   "execution_count": null,
   "id": "a0f9d6a2",
   "metadata": {},
   "outputs": [],
   "source": [
    "total_even = 0\n",
    "for even in range(2,101,2):\n",
    "    total_even+=  even\n",
    "print(total_even)"
   ]
  },
  {
   "cell_type": "markdown",
   "id": "16bafeb3",
   "metadata": {},
   "source": [
    "##### EX3: Fizz-Buzz"
   ]
  },
  {
   "cell_type": "code",
   "execution_count": null,
   "id": "77e127d4",
   "metadata": {},
   "outputs": [],
   "source": [
    "for n in range(1,101):\n",
    "    if  n % 3 == 0 and n % 5 == 0:\n",
    "        print(\"fizzbuzz\")\n",
    "    elif n % 5 == 0:\n",
    "        print(\"buzz\")\n",
    "    elif n % 5 == 0:\n",
    "        print(\"fizz\")\n",
    "    else:\n",
    "        print(n)"
   ]
  },
  {
   "cell_type": "markdown",
   "id": "45ef92c0",
   "metadata": {},
   "source": [
    "##### EX4: Password generator"
   ]
  },
  {
   "cell_type": "code",
   "execution_count": null,
   "id": "990203b4",
   "metadata": {},
   "outputs": [],
   "source": [
    "symbols = \"1 2 3 4 5 6 7 8 9 0\"\n",
    "letter = symbols.split()\n",
    "print(letter)"
   ]
  },
  {
   "cell_type": "code",
   "execution_count": null,
   "id": "0219d8b1",
   "metadata": {},
   "outputs": [],
   "source": [
    "import random\n",
    "letters = ['a', 'b', 'c', 'd', 'e', 'f', 'g', 'h', 'i', 'j', 'k', 'l', 'm', \n",
    "          'n', 'o', 'p', 'q', 'r', 's', 't', 'u', 'v', 'w', 'x', 'y', 'z',\n",
    "          'A', 'B', 'C', 'D', 'E', 'F', 'G', 'H', 'I', 'J', 'K', 'L', 'M',\n",
    "          'N', 'O', 'P', 'Q', 'R', 'S', 'T', 'U', 'V', 'W', 'X', 'Y', 'Z']\n",
    "\n",
    "symbols = ['!', '#', '$', '%', '&', '(', ')', '*', '+']\n",
    "\n",
    "numbers = ['1', '2', '3', '4', '5', '6', '7', '8', '9', '0']\n",
    "\n",
    "print('Welcome to the pypassword generator')\n",
    "n_letters = int(input('How many letters will you like in your password: '))\n",
    "n_symbols = int(input('How many letters will you like in your password: '))\n",
    "n_numbers = int(input('How many numbers will you like in your password: '))\n",
    "\n",
    "password = \"\"\n",
    "for char in range(1,n_letters+1):\n",
    "     password+= random.choice(letters)\n",
    "\n",
    "for char in range(1,n_symbols+1):\n",
    "    password+= random.choice(symbols)\n",
    "\n",
    "for char in range(1,n_numbers+1):\n",
    "    password+= random.choice(numbers)\n",
    "\n",
    "print(password)"
   ]
  },
  {
   "cell_type": "code",
   "execution_count": null,
   "id": "64d34701",
   "metadata": {},
   "outputs": [],
   "source": [
    "#hard way to solve the password generator challenge\n",
    "print('Welcome to the pypassword generator')\n",
    "n_letters = int(input('How many letters will you like in your password: '))\n",
    "n_symbols = int(input('How many letters will you like in your password: '))\n",
    "n_numbers = int(input('How many numbers will you like in your password: '))\n",
    "\n",
    "\n",
    "password = []\n",
    "for char in range(1,n_letters+1):\n",
    "     password+= random.choice(letters)\n",
    "\n",
    "for char in range(1,n_symbols+1):\n",
    "    password+= random.choice(symbols)\n",
    "\n",
    "for char in range(1,n_numbers+1):\n",
    "    password+= random.choice(numbers)\n",
    "\n",
    "    random.shuffle(password)\n",
    "\n",
    "password = ''.join(password) #converted list to string  \n",
    "print(f'\\nYour generated password is: {password}')"
   ]
  },
  {
   "cell_type": "code",
   "execution_count": null,
   "id": "31ef5f8e",
   "metadata": {},
   "outputs": [],
   "source": []
  }
 ],
 "metadata": {
  "kernelspec": {
   "display_name": "Python 3 (ipykernel)",
   "language": "python",
   "name": "python3"
  },
  "language_info": {
   "codemirror_mode": {
    "name": "ipython",
    "version": 3
   },
   "file_extension": ".py",
   "mimetype": "text/x-python",
   "name": "python",
   "nbconvert_exporter": "python",
   "pygments_lexer": "ipython3",
   "version": "3.9.7"
  }
 },
 "nbformat": 4,
 "nbformat_minor": 5
}
