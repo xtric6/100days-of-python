{
 "cells": [
  {
   "cell_type": "code",
   "execution_count": 1,
   "id": "5b3c09fd",
   "metadata": {},
   "outputs": [],
   "source": [
    "#Create a program that calculates your the tip to be paid at a resturant"
   ]
  },
  {
   "cell_type": "code",
   "execution_count": 15,
   "id": "1ec84219",
   "metadata": {},
   "outputs": [
    {
     "name": "stdout",
     "output_type": "stream",
     "text": [
      "Welcome to tip calculator\n",
      "What was the total bill? $123330\n",
      "What percentage tip will you like to give? 10,12 or 15? 12\n",
      "How many people to split the bill? 3\n",
      "Each person is to pay $472,000\n"
     ]
    }
   ],
   "source": [
    "bill_calculator = (total_bill + (total_bill * (tip_perct/100)))/tip_split\n",
    "print('Welcome to tip calculator')\n",
    "total_bill = int(input('What was the total bill? $'))\n",
    "tip_perct = int(input('What percentage tip will you like to give? 10,12 or 15? '))\n",
    "tip_split = int(input('How many people to split the bill? '))\n",
    "print('Each person is to pay ${bill_calculator:,}'.format(bill_calculator=round(bill_calculator)))"
   ]
  },
  {
   "cell_type": "code",
   "execution_count": null,
   "id": "4a0dff79",
   "metadata": {},
   "outputs": [],
   "source": []
  },
  {
   "cell_type": "code",
   "execution_count": null,
   "id": "8768987a",
   "metadata": {},
   "outputs": [],
   "source": []
  }
 ],
 "metadata": {
  "kernelspec": {
   "display_name": "Python 3 (ipykernel)",
   "language": "python",
   "name": "python3"
  },
  "language_info": {
   "codemirror_mode": {
    "name": "ipython",
    "version": 3
   },
   "file_extension": ".py",
   "mimetype": "text/x-python",
   "name": "python",
   "nbconvert_exporter": "python",
   "pygments_lexer": "ipython3",
   "version": "3.9.12"
  }
 },
 "nbformat": 4,
 "nbformat_minor": 5
}
