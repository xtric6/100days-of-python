{
 "cells": [
  {
   "cell_type": "code",
   "execution_count": 174,
   "id": "99197154",
   "metadata": {},
   "outputs": [
    {
     "name": "stdout",
     "output_type": "stream",
     "text": [
      "where do to want to put the treasure? e.g 11,12,13,21,22,23,31,32,33 :  22\n",
      "['☐', '☐', '☐']\n",
      "['☐', '💀', '☐']\n",
      "['☐', '☐', '☐']\n",
      "where do to want to put the treasure? e.g 11,12,13,21,22,23,31,32,33 :  21\n",
      "['☐', '☐', '☐']\n",
      "['💀', '💀', '☐']\n",
      "['☐', '☐', '☐']\n",
      "where do to want to put the treasure? e.g 11,12,13,21,22,23,31,32,33 :  23\n",
      "['☐', '☐', '☐']\n",
      "['💀', '💀', '💀']\n",
      "['☐', '☐', '☐']\n",
      "YOU WIN\n"
     ]
    }
   ],
   "source": [
    "#This project was built through angela yu 100 days of code to solidify my knowledge of python list.\n",
    "\n",
    "row1 = [\"☐\",\"☐\",\"☐\"]\n",
    "row2 = [\"☐\",\"☐\",\"☐\"]\n",
    "row3 = [\"☐\",\"☐\",\"☐\"]\n",
    "\n",
    "maps = [row1,row2,row3]\n",
    "#maps[horizontal][vertical] = 'X'\n",
    "\n",
    "for i in range(len(maps)):\n",
    "    if maps[i] != ['💀','💀','💀']:\n",
    "        position = input('where do to want to put the treasure? e.g 11,12,13,21,22,23,31,32,33 :  ')\n",
    "        horizontal = int(position[0]) - 1\n",
    "        vertical = int(position[1]) - 1\n",
    "        maps[horizontal][vertical] = '💀'\n",
    "        print(f\"{row1}\\n{row2}\\n{row3}\")\n",
    "    else:\n",
    "        break\n",
    "print('YOU WIN')   \n",
    "\n"
   ]
  },
  {
   "cell_type": "markdown",
   "id": "50e30541",
   "metadata": {},
   "source": []
  }
 ],
 "metadata": {
  "kernelspec": {
   "display_name": "Python 3 (ipykernel)",
   "language": "python",
   "name": "python3"
  },
  "language_info": {
   "codemirror_mode": {
    "name": "ipython",
    "version": 3
   },
   "file_extension": ".py",
   "mimetype": "text/x-python",
   "name": "python",
   "nbconvert_exporter": "python",
   "pygments_lexer": "ipython3",
   "version": "3.9.12"
  }
 },
 "nbformat": 4,
 "nbformat_minor": 5
}
