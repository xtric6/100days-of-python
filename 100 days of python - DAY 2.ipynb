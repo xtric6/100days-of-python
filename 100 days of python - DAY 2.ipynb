{
 "cells": [
  {
   "cell_type": "markdown",
   "id": "1e0cc504",
   "metadata": {},
   "source": [
    "#### IBM CALCULATOR"
   ]
  },
  {
   "cell_type": "code",
   "execution_count": 13,
   "id": "d977ef33",
   "metadata": {},
   "outputs": [
    {
     "name": "stdout",
     "output_type": "stream",
     "text": [
      "Enter your weight(kg): 40\n",
      "Enter your height(m): 173\n",
      "\n",
      "Your BMI is 15 \n",
      "You are underweight\n"
     ]
    }
   ],
   "source": [
    "weight = int(input('Enter your weight(kg): '))\n",
    "height_cm = int(input('Enter your height(m): '))\n",
    "height_m = height / 100\n",
    "result = round(weight/height_m**2)\n",
    "\n",
    "if result < 18.5:\n",
    "    print(f'\\nYour BMI is {result} \\nYou are underweight')\n",
    "elif 18.5 < result <= 25:\n",
    "    print(f'\\nYour BMI is {result} \\nYou are normal weight')\n",
    "else:\n",
    "    print(f'\\nYour BMI is {result} \\nYou are over weight')"
   ]
  },
  {
   "cell_type": "markdown",
   "id": "ac104c42",
   "metadata": {},
   "source": [
    "#### TIP CALCULATOR"
   ]
  },
  {
   "cell_type": "code",
   "execution_count": 18,
   "id": "0c60b09a",
   "metadata": {},
   "outputs": [
    {
     "name": "stdout",
     "output_type": "stream",
     "text": [
      "Welcome to the tip calculator!\n",
      "What was the total bill? $ 300\n",
      "How much tip would you like to give? 10,12, 0r 15: 9\n",
      "How many people to split the bill? 6\n",
      "Your total bill is $54.5\n"
     ]
    }
   ],
   "source": [
    "print('Welcome to the tip calculator!')\n",
    "\n",
    "bill = float(input('What was the total bill? $ '))\n",
    "tip = int(input('How much tip would you like to give? 10,12, 0r 15: '))\n",
    "split = int(input('How many people to split the bill? '))\n",
    "\n",
    "total_bill = (bill + (tip/100 * bill)) /split\n",
    "print(f\"Your total bill is ${total_bill}\")"
   ]
  },
  {
   "cell_type": "code",
   "execution_count": null,
   "id": "979793ed",
   "metadata": {},
   "outputs": [],
   "source": []
  }
 ],
 "metadata": {
  "kernelspec": {
   "display_name": "Python 3 (ipykernel)",
   "language": "python",
   "name": "python3"
  },
  "language_info": {
   "codemirror_mode": {
    "name": "ipython",
    "version": 3
   },
   "file_extension": ".py",
   "mimetype": "text/x-python",
   "name": "python",
   "nbconvert_exporter": "python",
   "pygments_lexer": "ipython3",
   "version": "3.9.7"
  }
 },
 "nbformat": 4,
 "nbformat_minor": 5
}
