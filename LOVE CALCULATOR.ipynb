{
 "cells": [
  {
   "cell_type": "code",
   "execution_count": 18,
   "id": "9d6749b0",
   "metadata": {},
   "outputs": [
    {
     "name": "stdout",
     "output_type": "stream",
     "text": [
      "Welcome to love calculator\n",
      "Enter your name:\n",
      "Elizabeth\n",
      "Enter your lovers name: \n",
      "Emmanuel\n",
      "Your love score is 66%\n",
      "<<<<<<<<PERFECT MARCH<<<<<<<<<\n"
     ]
    }
   ],
   "source": [
    "print('Welcome to love calculator')\n",
    "name1 = input('Enter your name:\\n')\n",
    "name2 = input('Enter your lovers name: \\n')\n",
    "\n",
    "string1= ['T','R','U','E']\n",
    "string2 = ['L','O','V','E']\n",
    "\n",
    "\n",
    "combined_string = name1 + name2\n",
    "lower_case_string = combined_string.lower()\n",
    "        \n",
    "t = lower_case_string.count('t')\n",
    "r = lower_case_string.count('u')\n",
    "u = lower_case_string.count('r')\n",
    "e = lower_case_string.count('e')\n",
    "\n",
    "l = lower_case_string.count('l')\n",
    "o = lower_case_string.count('o')\n",
    "v = lower_case_string.count('v')\n",
    "e = lower_case_string.count('e')\n",
    "\n",
    "true_love = str(t + r + u + e) + str(l + o + v + e)\n",
    "print(f\"Your love score is {true_love}%\")\n",
    "      \n",
    "if int(true_love) < 50:\n",
    "      print('Your love sucks!!!')\n",
    "elif int(true_love) == 50:\n",
    "      print('Your love is manaegable')\n",
    "else:\n",
    "      print('PERFECT MARCH'.center(30,'<'))"
   ]
  },
  {
   "cell_type": "code",
   "execution_count": null,
   "id": "ea600c45",
   "metadata": {},
   "outputs": [],
   "source": []
  }
 ],
 "metadata": {
  "kernelspec": {
   "display_name": "Python 3 (ipykernel)",
   "language": "python",
   "name": "python3"
  },
  "language_info": {
   "codemirror_mode": {
    "name": "ipython",
    "version": 3
   },
   "file_extension": ".py",
   "mimetype": "text/x-python",
   "name": "python",
   "nbconvert_exporter": "python",
   "pygments_lexer": "ipython3",
   "version": "3.9.12"
  }
 },
 "nbformat": 4,
 "nbformat_minor": 5
}
