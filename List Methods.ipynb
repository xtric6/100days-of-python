{
 "cells": [
  {
   "cell_type": "code",
   "execution_count": 1,
   "id": "4a9285cb",
   "metadata": {},
   "outputs": [],
   "source": [
    "#Python list"
   ]
  },
  {
   "cell_type": "code",
   "execution_count": 21,
   "id": "2fa205a7",
   "metadata": {},
   "outputs": [],
   "source": [
    "numbers = [67,45,67,88,909,0]"
   ]
  },
  {
   "cell_type": "code",
   "execution_count": 22,
   "id": "94da09e5",
   "metadata": {},
   "outputs": [],
   "source": [
    "tokens = ['yes','no','able','man']"
   ]
  },
  {
   "cell_type": "code",
   "execution_count": 23,
   "id": "ee38c14c",
   "metadata": {},
   "outputs": [],
   "source": [
    "tokens.append(['jesus','mary'])"
   ]
  },
  {
   "cell_type": "code",
   "execution_count": 24,
   "id": "f0d96a86",
   "metadata": {},
   "outputs": [
    {
     "data": {
      "text/plain": [
       "['yes', 'no', 'able', 'man', ['jesus', 'mary']]"
      ]
     },
     "execution_count": 24,
     "metadata": {},
     "output_type": "execute_result"
    }
   ],
   "source": [
    "tokens"
   ]
  },
  {
   "cell_type": "code",
   "execution_count": 25,
   "id": "0e25e163",
   "metadata": {},
   "outputs": [],
   "source": [
    "token2 = ['yes','no','able','man']"
   ]
  },
  {
   "cell_type": "code",
   "execution_count": 26,
   "id": "9d0edeb3",
   "metadata": {},
   "outputs": [],
   "source": [
    "token2.extend(['jesus','mary'])"
   ]
  },
  {
   "cell_type": "code",
   "execution_count": 29,
   "id": "aa51e578",
   "metadata": {},
   "outputs": [
    {
     "data": {
      "text/plain": [
       "['yes', 'no', 'able', 'man', 'jesus', 'mary']"
      ]
     },
     "execution_count": 29,
     "metadata": {},
     "output_type": "execute_result"
    }
   ],
   "source": [
    "token2"
   ]
  },
  {
   "cell_type": "code",
   "execution_count": 32,
   "id": "a2d38280",
   "metadata": {},
   "outputs": [],
   "source": [
    "token2.clear()"
   ]
  },
  {
   "cell_type": "code",
   "execution_count": 33,
   "id": "a3d6468a",
   "metadata": {},
   "outputs": [
    {
     "data": {
      "text/plain": [
       "[]"
      ]
     },
     "execution_count": 33,
     "metadata": {},
     "output_type": "execute_result"
    }
   ],
   "source": [
    "tokens"
   ]
  },
  {
   "cell_type": "code",
   "execution_count": 34,
   "id": "0399ad67",
   "metadata": {},
   "outputs": [],
   "source": [
    "token3 = ['yes', 'no', 'able', 'man', 'jesus', 'mary']"
   ]
  },
  {
   "cell_type": "code",
   "execution_count": 36,
   "id": "cd70baa3",
   "metadata": {},
   "outputs": [],
   "source": [
    "token4 = token3.copy()"
   ]
  },
  {
   "cell_type": "code",
   "execution_count": 37,
   "id": "a561f06a",
   "metadata": {},
   "outputs": [
    {
     "data": {
      "text/plain": [
       "['yes', 'no', 'able', 'man', 'jesus', 'mary']"
      ]
     },
     "execution_count": 37,
     "metadata": {},
     "output_type": "execute_result"
    }
   ],
   "source": [
    "token4"
   ]
  },
  {
   "cell_type": "code",
   "execution_count": 39,
   "id": "8248b2c1",
   "metadata": {},
   "outputs": [],
   "source": [
    "token4.append('fish')"
   ]
  },
  {
   "cell_type": "code",
   "execution_count": 40,
   "id": "bff3fe74",
   "metadata": {},
   "outputs": [
    {
     "data": {
      "text/plain": [
       "['yes', 'no', 'able', 'man', 'jesus', 'mary', 'fish']"
      ]
     },
     "execution_count": 40,
     "metadata": {},
     "output_type": "execute_result"
    }
   ],
   "source": [
    "token4"
   ]
  },
  {
   "cell_type": "code",
   "execution_count": 42,
   "id": "1334d4f0",
   "metadata": {},
   "outputs": [],
   "source": [
    "token4.insert(4,'boy')"
   ]
  },
  {
   "cell_type": "code",
   "execution_count": 43,
   "id": "c090bb70",
   "metadata": {},
   "outputs": [
    {
     "data": {
      "text/plain": [
       "['yes', 'no', 'able', 'man', 'boy', 'jesus', 'mary', 'fish']"
      ]
     },
     "execution_count": 43,
     "metadata": {},
     "output_type": "execute_result"
    }
   ],
   "source": [
    "token4"
   ]
  },
  {
   "cell_type": "code",
   "execution_count": 44,
   "id": "2c9f5490",
   "metadata": {},
   "outputs": [
    {
     "data": {
      "text/plain": [
       "['yes', 'no', 'able', 'man', 'boy', 'jesus', 'mary']"
      ]
     },
     "execution_count": 44,
     "metadata": {},
     "output_type": "execute_result"
    }
   ],
   "source": [
    "token4.pop() #remove last element in a string\n",
    "token4"
   ]
  },
  {
   "cell_type": "code",
   "execution_count": 47,
   "id": "f8043ecf",
   "metadata": {},
   "outputs": [
    {
     "data": {
      "text/plain": [
       "['yes', 'no', 'able', 'man', 'boy', 'jesus']"
      ]
     },
     "execution_count": 47,
     "metadata": {},
     "output_type": "execute_result"
    }
   ],
   "source": [
    "token4.pop()\n",
    "token4"
   ]
  },
  {
   "cell_type": "code",
   "execution_count": 48,
   "id": "7c423fdb",
   "metadata": {},
   "outputs": [],
   "source": [
    "token4.remove('able')"
   ]
  },
  {
   "cell_type": "code",
   "execution_count": 49,
   "id": "75f1052d",
   "metadata": {},
   "outputs": [
    {
     "data": {
      "text/plain": [
       "['yes', 'no', 'man', 'boy', 'jesus']"
      ]
     },
     "execution_count": 49,
     "metadata": {},
     "output_type": "execute_result"
    }
   ],
   "source": [
    "token4"
   ]
  },
  {
   "cell_type": "code",
   "execution_count": 50,
   "id": "51ca20fa",
   "metadata": {},
   "outputs": [],
   "source": [
    "token4.reverse()"
   ]
  },
  {
   "cell_type": "code",
   "execution_count": 51,
   "id": "dacb403d",
   "metadata": {},
   "outputs": [
    {
     "data": {
      "text/plain": [
       "['jesus', 'boy', 'man', 'no', 'yes']"
      ]
     },
     "execution_count": 51,
     "metadata": {},
     "output_type": "execute_result"
    }
   ],
   "source": [
    "token4"
   ]
  },
  {
   "cell_type": "code",
   "execution_count": 52,
   "id": "af3f26f0",
   "metadata": {},
   "outputs": [],
   "source": [
    "token4.sort()"
   ]
  },
  {
   "cell_type": "code",
   "execution_count": 53,
   "id": "1f1ca278",
   "metadata": {},
   "outputs": [
    {
     "data": {
      "text/plain": [
       "['boy', 'jesus', 'man', 'no', 'yes']"
      ]
     },
     "execution_count": 53,
     "metadata": {},
     "output_type": "execute_result"
    }
   ],
   "source": [
    "token4"
   ]
  },
  {
   "cell_type": "code",
   "execution_count": null,
   "id": "24810eb2",
   "metadata": {},
   "outputs": [],
   "source": [
    "token4.sort()"
   ]
  }
 ],
 "metadata": {
  "kernelspec": {
   "display_name": "Python 3 (ipykernel)",
   "language": "python",
   "name": "python3"
  },
  "language_info": {
   "codemirror_mode": {
    "name": "ipython",
    "version": 3
   },
   "file_extension": ".py",
   "mimetype": "text/x-python",
   "name": "python",
   "nbconvert_exporter": "python",
   "pygments_lexer": "ipython3",
   "version": "3.9.12"
  }
 },
 "nbformat": 4,
 "nbformat_minor": 5
}
