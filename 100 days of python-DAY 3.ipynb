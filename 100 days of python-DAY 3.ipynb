{
 "cells": [
  {
   "cell_type": "markdown",
   "id": "cd45f410",
   "metadata": {},
   "source": [
    "## CONTROL FLOW AND LOGICAL OPERATORS"
   ]
  },
  {
   "cell_type": "markdown",
   "id": "18388a58",
   "metadata": {},
   "source": [
    "###### ODD OR EVEN NUMBER CHECKER"
   ]
  },
  {
   "cell_type": "code",
   "execution_count": 4,
   "id": "a8c5520e",
   "metadata": {},
   "outputs": [
    {
     "name": "stdout",
     "output_type": "stream",
     "text": [
      "What number do you want to check? 1273839\n",
      "1273839 is an odd number\n"
     ]
    }
   ],
   "source": [
    "#This code checks if a number is even or odd\n",
    "\n",
    "number = int(input('What number do you want to check? '))\n",
    "if number % 2 == 0:\n",
    "    print(f\"{number} is an even number\")\n",
    "else:\n",
    "    print(f\"{number} is an odd number\")"
   ]
  },
  {
   "cell_type": "markdown",
   "id": "21a7bfdf",
   "metadata": {},
   "source": [
    "##### BMI CALCULATOR 2.0"
   ]
  },
  {
   "cell_type": "code",
   "execution_count": 6,
   "id": "4bc21bb0",
   "metadata": {},
   "outputs": [
    {
     "name": "stdout",
     "output_type": "stream",
     "text": [
      "This is a BMI calculator\n",
      "Enter your height(m): 1.7\n",
      "Enter your weight(kg): 90\n",
      "\n",
      "Your BMI result is 31,You are obese\n"
     ]
    }
   ],
   "source": [
    "print('This is a BMI calculator')\n",
    "height = float(input('Enter your height(m): '))\n",
    "weight = int(input('Enter your weight(kg): '))\n",
    "BMI_result = round(weight/height**2)\n",
    "\n",
    "if BMI_result < 18:\n",
    "    print(f'\\nYour BMI result is {BMI_result},You are underweight')\n",
    "elif BMI_result < 25:\n",
    "    print(f'\\nYour BMI result is {BMI_result},You are normal weight')\n",
    "elif BMI_result < 30:\n",
    "    print(f'\\nYour BMI result is {BMI_result},You are over weight')\n",
    "elif BMI_result < 35:\n",
    "    print(f'\\nYour BMI result is {BMI_result},You are obese')\n",
    "else:\n",
    "    print(f'\\nYour BMI result is {BMI_result},You are clinically obese')"
   ]
  },
  {
   "cell_type": "markdown",
   "id": "214d0033",
   "metadata": {},
   "source": [
    "##### LEAP YEAR CHECKER"
   ]
  },
  {
   "cell_type": "markdown",
   "id": "d185c54e",
   "metadata": {},
   "source": [
    "You should follow the following steps to determine whether a year is a leap year or not.\n",
    "\n",
    "* If a year is evenly divisible by 4 means having no remainder then go to next step. If it is not divisible by 4. It is not a leap year. For example: 1997 is not a leap year.\n",
    "* If a year is divisible by 4, but not by 100. For example: 2012, it is a leap year. If a year is divisible by both 4 and 100, go to next step.\n",
    "* If a year is divisible by 100, but not by 400. For example: 1900, then it is not a leap year. If a year is divisible by both, then it is a leap year. So 2000 is a leap year."
   ]
  },
  {
   "cell_type": "code",
   "execution_count": 11,
   "id": "f8382204",
   "metadata": {},
   "outputs": [
    {
     "name": "stdout",
     "output_type": "stream",
     "text": [
      "Enter the year: 2024\n",
      "leap year\n"
     ]
    }
   ],
   "source": [
    "year = int(input('Enter the year: '))\n",
    "\n",
    "if year % 4 == 0:\n",
    "    if year % 100 == 0:\n",
    "        if year % 400 == 0:\n",
    "            print('leap year')\n",
    "        else:\n",
    "            print('not leap year')\n",
    "    else:\n",
    "        print('leap year')\n",
    "else:\n",
    "    print('not leap year')\n",
    "\n"
   ]
  },
  {
   "cell_type": "markdown",
   "id": "2aa45a32",
   "metadata": {},
   "source": [
    "##### Ticket fee calculator for a rollercoaster"
   ]
  },
  {
   "cell_type": "code",
   "execution_count": 33,
   "id": "225d6ecb",
   "metadata": {},
   "outputs": [
    {
     "name": "stdout",
     "output_type": "stream",
     "text": [
      "Welcome to the rollercoaster\n",
      "\n",
      "Enter height(cm): 200\n",
      "Enter age(years): 30\n",
      "Adult ticket is $12.\n",
      "Do you want a photo N or Y: Y\n",
      "You are to pay $15\n"
     ]
    }
   ],
   "source": [
    "print('Welcome to the rollercoaster\\n')\n",
    "\n",
    "height = float(input('Enter height(cm): '))\n",
    "age = int(input('Enter age(years): '))\n",
    "if height > 120:\n",
    "    if age < 12:\n",
    "        bill = 5\n",
    "        print('Child ticket is $5.')\n",
    "    if age <=18:\n",
    "        bill = 7\n",
    "        print('Teenage ticket is $7.')\n",
    "    else:\n",
    "        bill = 12\n",
    "        print('Adult ticket is $12.')\n",
    "    \n",
    "    photo = str(input('Do you want a photo N or Y: '))\n",
    "    if photo == 'Y':\n",
    "        bill+=3\n",
    "    print(f'You are to pay ${bill}')  \n",
    "else:\n",
    "    print('You cant ride on the train')"
   ]
  },
  {
   "cell_type": "markdown",
   "id": "9d0b5233",
   "metadata": {},
   "source": [
    "##### PIZZA ORDER PROGRAMME"
   ]
  },
  {
   "cell_type": "code",
   "execution_count": 50,
   "id": "ac1fbba8",
   "metadata": {},
   "outputs": [
    {
     "name": "stdout",
     "output_type": "stream",
     "text": [
      "What size of pizza do you want S,M,L: L\n",
      "Do you want pepperoni Y or N: Y\n",
      "Do you want cheese Y or N: Y\n",
      "Your bill is $29\n"
     ]
    }
   ],
   "source": [
    "size = input('What size of pizza do you want S,M,L: ')\n",
    "if size == 'S':\n",
    "    price = 15\n",
    "    pepperoni = input('Do you want pepperoni Y or N: ')\n",
    "    if pepperoni == 'Y':\n",
    "        price += 2   \n",
    "    \n",
    "elif size == 'M':\n",
    "    price = 20\n",
    "    pepperoni = input('Do you want pepperoni Y or N: ')\n",
    "    if pepperoni == 'Y':\n",
    "        price += 3\n",
    "elif size=='L':\n",
    "    price = 25\n",
    "    pepperoni = input('Do you want pepperoni Y or N: ')\n",
    "    if pepperoni == 'Y':\n",
    "        price += 3\n",
    "cheese = input('Do you want cheese Y or N: ')\n",
    "if cheese =='Y':\n",
    "    price +=1\n",
    "print(f'Your bill is ${price}')\n",
    "    \n"
   ]
  },
  {
   "cell_type": "code",
   "execution_count": 52,
   "id": "1bcd8cf3",
   "metadata": {},
   "outputs": [
    {
     "name": "stdout",
     "output_type": "stream",
     "text": [
      "What size of pizza do you want S,M,L: L\n",
      "Do you want pepperoni Y or N: Y\n",
      "Do you want cheese Y or N: Y\n",
      "Your bill is $29\n"
     ]
    }
   ],
   "source": [
    "#cleaner code\n",
    "size = input('What size of pizza do you want S,M,L: ')\n",
    "if size == 'S':\n",
    "    price = 15\n",
    "elif size == 'M':\n",
    "    price = 20\n",
    "elif size=='L':\n",
    "    price = 25\n",
    "pepperoni = input('Do you want pepperoni Y or N: ')\n",
    "if pepperoni == 'Y':\n",
    "    if size == 'S':\n",
    "        price += 2\n",
    "    else:\n",
    "        price += 3\n",
    "cheese = input('Do you want cheese Y or N: ')\n",
    "if cheese =='Y':\n",
    "    price +=1\n",
    "print(f'Your bill is ${price}')\n",
    "    "
   ]
  },
  {
   "cell_type": "code",
   "execution_count": 62,
   "id": "2d04aefb",
   "metadata": {},
   "outputs": [
    {
     "name": "stdout",
     "output_type": "stream",
     "text": [
      "Welcome to the rollercoaster\n",
      "\n",
      "Enter height(cm): 699\n",
      "Enter age(years): 56\n",
      "Do you want a photo N or Y: Y\n",
      "You are to pay $15\n"
     ]
    }
   ],
   "source": [
    "#ADDING AN EXTRA CONDITION TO THE ROLLERCOASTER PRICE CALCULATOR\n",
    "print('Welcome to the rollercoaster\\n')\n",
    "\n",
    "height = float(input('Enter height(cm): '))\n",
    "age = int(input('Enter age(years): '))\n",
    "if height > 120:\n",
    "    if age < 12:\n",
    "        bill = 5\n",
    "        print('Child ticket is $5.')\n",
    "    elif age <=18:\n",
    "        bill = 7\n",
    "        print('Teenage ticket is $7.')\n",
    "    elif 18 <= age and age < 45:\n",
    "        bill=12\n",
    "        print('Adult ticket is $12.')\n",
    "    elif age >=45 and age <=55:\n",
    "        bill = 0\n",
    "        print('You can ride for free.')\n",
    "    photo = str(input('Do you want a photo N or Y: '))\n",
    "    if photo == 'Y':\n",
    "        bill+=3\n",
    "    print(f'You are to pay ${bill}') \n",
    "else:\n",
    "    print('You cant ride on the train')"
   ]
  },
  {
   "cell_type": "code",
   "execution_count": 64,
   "id": "f2da1254",
   "metadata": {},
   "outputs": [
    {
     "name": "stdout",
     "output_type": "stream",
     "text": [
      "Welcome to the rollercoaster\n",
      "\n",
      "Enter height(cm): 150\n",
      "Enter age(years): 56\n",
      "Adult ticket is $12\n",
      "Do you want a photo N or Y: 3\n",
      "You are to pay $15\n"
     ]
    }
   ],
   "source": [
    "#clearner code\n",
    "print('Welcome to the rollercoaster\\n')\n",
    "\n",
    "height = float(input('Enter height(cm): '))\n",
    "age = int(input('Enter age(years): '))\n",
    "if height > 120:\n",
    "    if age < 12:\n",
    "        bill = 5\n",
    "        print('Child ticket is $5.')\n",
    "    elif age <=18:\n",
    "        bill = 7\n",
    "        print('Teenage ticket is $7.')\n",
    "    elif age >=45 and age <= 55:\n",
    "        print('You can ride for free ,everything will be fine.')\n",
    "    else:\n",
    "        print('Adult ticket is $12')\n",
    "    photo = str(input('Do you want a photo N or Y: '))\n",
    "    if photo == 'Y':\n",
    "        bill+=3\n",
    "    print(f'You are to pay ${bill}') \n",
    "else:\n",
    "    print('You cant ride on the train')"
   ]
  },
  {
   "cell_type": "markdown",
   "id": "82b25c0a",
   "metadata": {},
   "source": [
    "##### LOVE CALCULATOR"
   ]
  },
  {
   "cell_type": "code",
   "execution_count": 87,
   "id": "1b983f15",
   "metadata": {},
   "outputs": [
    {
     "name": "stdout",
     "output_type": "stream",
     "text": [
      "Welcome to the Love Calculator!\n",
      "Enter your name: OKPARA ESTHER CHINEMERE\n",
      "Enter your lover's name: OZIBO PROMISE EMMMANUEL\n",
      "\n",
      "Your compatibility score is 1514%,you guys go together like bread and butter!\n"
     ]
    }
   ],
   "source": [
    "print('Welcome to the Love Calculator!')\n",
    "your_name = str(input('Enter your name: ')).lower()\n",
    "lovers_name = str(input(\"Enter your lover's name: \")).lower()\n",
    "\n",
    "game =\"truelove\"\n",
    "n_t= your_name.count('t')\n",
    "n_r= your_name.count('r')\n",
    "n_u= your_name.count('u')\n",
    "n_e= your_name.count('e')\n",
    "n_l= your_name.count('l')\n",
    "n_o= your_name.count('o')\n",
    "n_v= your_name.count('v')\n",
    "n_e2= your_name.count('e')\n",
    "\n",
    "l_t= lovers_name.count('t')\n",
    "l_r= lovers_name.count('r')\n",
    "l_u= lovers_name.count('u')\n",
    "l_e= lovers_name.count('e')\n",
    "l_l= lovers_name.count('l')\n",
    "l_o= lovers_name.count('o')\n",
    "l_v= lovers_name.count('v')\n",
    "l_e2= lovers_name.count('e')\n",
    "\n",
    "\n",
    "your_score = n_t + n_r + n_u + n_e + n_l + n_o + n_v + n_e2\n",
    "lover_score = l_t + l_r + l_u + l_e + l_l + l_o + l_v + n_e2\n",
    "result = str(your_score)+str(lover_score)\n",
    "result = int(result)\n",
    "if result < 10 or result > 90:\n",
    "    print(f'\\nYour compatibility score is {result}%,you guys go together like bread and butter!')\n",
    "elif result >=40 and result <= 50:\n",
    "    print(f'Your compatibility score is {result}%,you guys are alright.')\n",
    "else: \n",
    "    print(f'Your compatibility score is {result}%')"
   ]
  },
  {
   "cell_type": "markdown",
   "id": "67ba610c",
   "metadata": {},
   "source": [
    "##### TREASURE ISLAND"
   ]
  },
  {
   "cell_type": "code",
   "execution_count": 96,
   "id": "a920c18b",
   "metadata": {},
   "outputs": [
    {
     "name": "stdout",
     "output_type": "stream",
     "text": [
      "Welcome to treasure island\n",
      "Your mission is to find the island\n",
      "Enter 'left' or 'right': left\n",
      "Enter 'wait' or 'swim': wait\n",
      "Enter 'yellow' or 'red' or blue: yellow\n",
      "You win\n"
     ]
    }
   ],
   "source": [
    "print('Welcome to treasure island\\nYour mission is to find the island')\n",
    "\n",
    "choice1 = input(\"Enter 'left' or 'right': \")\n",
    "\n",
    "if choice1 == 'left':\n",
    "    choice2 = input(\"Enter 'wait' or 'swim': \")\n",
    "    if choice2 == 'wait':\n",
    "        choice3 = input(\"Enter 'yellow' or 'red' or blue: \")\n",
    "        if choice3== 'red':\n",
    "            print('game over')\n",
    "        elif choice3 == 'yellow':\n",
    "            print('You win')\n",
    "        elif choice3=='blue':\n",
    "            print('game over')\n",
    "        else:\n",
    "            print('your door does exit,GAME OVER!')\n",
    "    else:\n",
    "            print('Game Over')\n",
    "else:\n",
    "    print(\"Game Over\")\n",
    "    "
   ]
  },
  {
   "cell_type": "code",
   "execution_count": null,
   "id": "22728b02",
   "metadata": {},
   "outputs": [],
   "source": []
  },
  {
   "cell_type": "code",
   "execution_count": null,
   "id": "08ce60a8",
   "metadata": {},
   "outputs": [],
   "source": []
  }
 ],
 "metadata": {
  "kernelspec": {
   "display_name": "Python 3 (ipykernel)",
   "language": "python",
   "name": "python3"
  },
  "language_info": {
   "codemirror_mode": {
    "name": "ipython",
    "version": 3
   },
   "file_extension": ".py",
   "mimetype": "text/x-python",
   "name": "python",
   "nbconvert_exporter": "python",
   "pygments_lexer": "ipython3",
   "version": "3.9.7"
  }
 },
 "nbformat": 4,
 "nbformat_minor": 5
}
