{
 "cells": [
  {
   "cell_type": "code",
   "execution_count": 1,
   "id": "1562f3ef",
   "metadata": {},
   "outputs": [],
   "source": [
    "import random"
   ]
  },
  {
   "cell_type": "markdown",
   "id": "a294afe9",
   "metadata": {},
   "source": [
    "### MY SOLUTION "
   ]
  },
  {
   "cell_type": "code",
   "execution_count": 78,
   "id": "5bf1b73f",
   "metadata": {
    "scrolled": true
   },
   "outputs": [
    {
     "name": "stdout",
     "output_type": "stream",
     "text": [
      "WELCOME TO THE NUMBER GUESSSING GAME!\n",
      "I'm thinking of a number between 1 and 100.\n",
      "Choose a difficulty. Type 'easy' and 'hard': hard\n",
      "14\n",
      "Make a guess: 14\n",
      "You guessed 14! You are right\n"
     ]
    }
   ],
   "source": [
    "print(\"WELCOME TO THE NUMBER GUESSSING GAME!\")\n",
    "print(\"I'm thinking of a number between 1 and 100.\")\n",
    "\n",
    "choice = input(\"Choose a difficulty. Type 'easy' and 'hard': \")\n",
    "computer_guess = random.randint(1,101)\n",
    "#guess = int(input('Make a guess: '))\n",
    "LIVES_EASY = 10\n",
    "LIVES_HARD = 5\n",
    "\n",
    "should_continue = True\n",
    "\n",
    "print(computer_guess)\n",
    "while should_continue:\n",
    "    if choice == 'easy':\n",
    "        guess = int(input('Make a guess: '))\n",
    "        if guess == computer_guess:\n",
    "            print(f'You guess {guess}! You are right')\n",
    "            should_continue = False\n",
    "        elif guess > computer_guess:\n",
    "            print('Too high')\n",
    "            print('Guess again')\n",
    "            LIVES_EASY -= 1 \n",
    "            print(f'You have {LIVES_EASY} remaining to guess a number')\n",
    "            #guess = int(input('Make a guess: ')) \n",
    "        elif guess < computer_guess:\n",
    "            print('Too low')\n",
    "            print('Guess again')\n",
    "            LIVES_EASY -= 1   \n",
    "            print(f'You have {LIVES_EASY} remaining to guess a number')\n",
    "\n",
    "    elif choice == 'hard':\n",
    "        guess = int(input('Make a guess: '))\n",
    "        if guess == computer_guess:\n",
    "            print(f'You guessed {guess}! You are right')\n",
    "            should_continue = False\n",
    "        elif guess > computer_guess:\n",
    "            print('Too high')\n",
    "            print('Guess again')\n",
    "            LIVES_HARD -= 1 \n",
    "            print(f'You have {LIVES_HARD} remaining to guess a number')\n",
    "\n",
    "        elif guess < computer_guess:\n",
    "            print('Too low')\n",
    "            print('Guess again')\n",
    "            LIVES_HARD-= 1   \n",
    "            print(f'You have {LIVES_HARD} remaining to guess a number')\n",
    "\n",
    "    if LIVES_EASY == 0 or LIVES_HARD == 0:\n",
    "        should_continue = False\n",
    "        print('YOU LOSE! 😭')\n",
    "\n"
   ]
  },
  {
   "cell_type": "markdown",
   "id": "6352fb54",
   "metadata": {},
   "source": [
    "### ANGELAS' SOLUTION"
   ]
  },
  {
   "cell_type": "code",
   "execution_count": 32,
   "id": "e8a80e30",
   "metadata": {},
   "outputs": [
    {
     "name": "stdout",
     "output_type": "stream",
     "text": [
      "Welcome to the Number Guessing Game!\n",
      "I'm thinking of a number between 1 and 100.\n",
      "Pssst, the correct answer is 90\n",
      "Choose a difficulty. Type 'easy' or 'hard': easy\n",
      "You have 10 attempts remaining to guess the number.\n",
      "Make a guess: 90\n",
      "You got it! The answer was 90.\n"
     ]
    }
   ],
   "source": [
    "from random import randint\n",
    "\n",
    "\n",
    "EASY_LEVEL_TURNS = 10\n",
    "HARD_LEVEL_TURNS = 5\n",
    "\n",
    "#Function to check user's guess against actual answer.\n",
    "def check_answer(guess, answer, turns):\n",
    "  \"\"\"checks answer against guess. Returns the number of turns remaining.\"\"\"\n",
    "  if guess > answer:\n",
    "    print(\"Too high.\")\n",
    "    return turns - 1\n",
    "  elif guess < answer:\n",
    "    print(\"Too low.\")\n",
    "    return turns - 1\n",
    "  else:\n",
    "    print(f\"You got it! The answer was {answer}.\")\n",
    "\n",
    "#Make function to set difficulty.\n",
    "def set_difficulty():\n",
    "    level = input(\"Choose a difficulty. Type 'easy' or 'hard': \")\n",
    "    if level == \"easy\":\n",
    "        return EASY_LEVEL_TURNS\n",
    "    else:\n",
    "        return HARD_LEVEL_TURNS\n",
    "\n",
    "def game():\n",
    "    \n",
    "      #Choosing a random number between 1 and 100.\n",
    "    print(\"Welcome to the Number Guessing Game!\")\n",
    "    print(\"I'm thinking of a number between 1 and 100.\")\n",
    "    answer = randint(1, 100)\n",
    "    print(f\"Pssst, the correct answer is {answer}\") \n",
    "\n",
    "    turns = set_difficulty()\n",
    "      #Repeat the guessing functionality if they get it wrong.\n",
    "    guess = 0\n",
    "    while guess != answer:\n",
    "        print(f\"You have {turns} attempts remaining to guess the number.\")\n",
    "\n",
    "        #Let the user guess a number.\n",
    "        guess = int(input(\"Make a guess: \"))\n",
    "\n",
    "        #Track the number of turns and reduce by 1 if they get it wrong.\n",
    "        turns = check_answer(guess, answer, turns)\n",
    "        if turns == 0:\n",
    "            print(\"You've run out of guesses, you lose.\")\n",
    "            return\n",
    "        elif guess != answer:\n",
    "            print(\"Guess again.\")\n",
    "\n",
    "\n",
    "game()\n",
    "\n"
   ]
  },
  {
   "cell_type": "code",
   "execution_count": null,
   "id": "1907a511",
   "metadata": {},
   "outputs": [],
   "source": []
  }
 ],
 "metadata": {
  "kernelspec": {
   "display_name": "Python 3 (ipykernel)",
   "language": "python",
   "name": "python3"
  },
  "language_info": {
   "codemirror_mode": {
    "name": "ipython",
    "version": 3
   },
   "file_extension": ".py",
   "mimetype": "text/x-python",
   "name": "python",
   "nbconvert_exporter": "python",
   "pygments_lexer": "ipython3",
   "version": "3.9.12"
  }
 },
 "nbformat": 4,
 "nbformat_minor": 5
}
