{
 "cells": [
  {
   "cell_type": "code",
   "execution_count": 79,
   "id": "36f52ff3",
   "metadata": {},
   "outputs": [
    {
     "name": "stdout",
     "output_type": "stream",
     "text": [
      "apPLE\n",
      "oraNGE\n",
      "pEAR\n"
     ]
    }
   ],
   "source": [
    "#task: change the last three leters to capital letters\n",
    "fruits = ['apple','orange','pear']\n",
    "new=[]\n",
    "for fruit in fruits:\n",
    "    fruit = fruit[:-3] + fruit[-3:].upper() \n",
    "    print(fruit)"
   ]
  },
  {
   "cell_type": "markdown",
   "id": "2f272db6",
   "metadata": {},
   "source": [
    "##### Ex1: Average height(Write a program that calaculates the avearge list of heights from a group of heights)"
   ]
  },
  {
   "cell_type": "code",
   "execution_count": 71,
   "id": "176d17b7",
   "metadata": {},
   "outputs": [
    {
     "name": "stdout",
     "output_type": "stream",
     "text": [
      "input student heights in cm89 90 98 54 43\n",
      "The average student height is 75cm\n"
     ]
    }
   ],
   "source": [
    "students_height = input(\"input student heights in cm\").split()\n",
    "for n in students_height:\n",
    "    students_height = [int(n) for n in students_height]\n",
    "    result = round(sum(students_height)/len(students_height))\n",
    "print(f\"The average student height is {result}cm\")"
   ]
  },
  {
   "cell_type": "markdown",
   "id": "7d113c53",
   "metadata": {},
   "source": [
    "##### EX2: Write a code that takes a range of values and return the highest number/score in a list"
   ]
  },
  {
   "cell_type": "code",
   "execution_count": 86,
   "id": "558abde8",
   "metadata": {},
   "outputs": [
    {
     "name": "stdout",
     "output_type": "stream",
     "text": [
      "input student score: 89 37 12 90 67 12 89 09 23 90 93\n",
      "The highest score is 93%\n"
     ]
    }
   ],
   "source": [
    "student_scores = input(\"input student score: \").split()\n",
    "for student_score in student_scores:\n",
    "    student_scores = [int(student_score) for student_score in student_scores]\n",
    "    result = max(student_scores)\n",
    "print(f\"The highest score is {result}%\")"
   ]
  },
  {
   "cell_type": "code",
   "execution_count": 109,
   "id": "674237b1",
   "metadata": {},
   "outputs": [
    {
     "name": "stdout",
     "output_type": "stream",
     "text": [
      "input student score: 78 89\n",
      "The highest score in the class is 89%\n"
     ]
    }
   ],
   "source": [
    "#angela's solution\n",
    "student_scores = input(\"input student score: \").split()\n",
    "student_scores = [int(student_score) for student_score in student_scores]\n",
    "highest_score = 0\n",
    "for score in student_scores:\n",
    "    if int(score) > highest_score:\n",
    "        highest_score= score\n",
    "print(f\"The highest score in the class is {highest_score}%\")"
   ]
  },
  {
   "cell_type": "markdown",
   "id": "b7374a12",
   "metadata": {},
   "source": [
    "##### adding numbers 1 - 100"
   ]
  },
  {
   "cell_type": "code",
   "execution_count": 113,
   "id": "6ecf71fa",
   "metadata": {
    "scrolled": true
   },
   "outputs": [
    {
     "name": "stdout",
     "output_type": "stream",
     "text": [
      "5050\n"
     ]
    }
   ],
   "source": [
    "total = 0\n",
    "for num in range(1,101):\n",
    "    total+=num\n",
    "print(total)"
   ]
  },
  {
   "cell_type": "markdown",
   "id": "ae190c84",
   "metadata": {},
   "source": [
    "##### EX2: write a code that adds even numbers between 1 -100"
   ]
  },
  {
   "cell_type": "code",
   "execution_count": 115,
   "id": "a0f9d6a2",
   "metadata": {},
   "outputs": [
    {
     "name": "stdout",
     "output_type": "stream",
     "text": [
      "2550\n"
     ]
    }
   ],
   "source": [
    "total_even = 0\n",
    "for even in range(2,101,2):\n",
    "    total_even+=  even\n",
    "print(total_even)"
   ]
  },
  {
   "cell_type": "markdown",
   "id": "16bafeb3",
   "metadata": {},
   "source": [
    "##### EX3: Fizz-Buzz"
   ]
  },
  {
   "cell_type": "code",
   "execution_count": 132,
   "id": "77e127d4",
   "metadata": {
    "collapsed": true
   },
   "outputs": [
    {
     "name": "stdout",
     "output_type": "stream",
     "text": [
      "1\n",
      "2\n",
      "3\n",
      "4\n",
      "buzz\n",
      "6\n",
      "7\n",
      "8\n",
      "9\n",
      "buzz\n",
      "11\n",
      "12\n",
      "13\n",
      "14\n",
      "fizzbuzz\n",
      "16\n",
      "17\n",
      "18\n",
      "19\n",
      "buzz\n",
      "21\n",
      "22\n",
      "23\n",
      "24\n",
      "buzz\n",
      "26\n",
      "27\n",
      "28\n",
      "29\n",
      "fizzbuzz\n",
      "31\n",
      "32\n",
      "33\n",
      "34\n",
      "buzz\n",
      "36\n",
      "37\n",
      "38\n",
      "39\n",
      "buzz\n",
      "41\n",
      "42\n",
      "43\n",
      "44\n",
      "fizzbuzz\n",
      "46\n",
      "47\n",
      "48\n",
      "49\n",
      "buzz\n",
      "51\n",
      "52\n",
      "53\n",
      "54\n",
      "buzz\n",
      "56\n",
      "57\n",
      "58\n",
      "59\n",
      "fizzbuzz\n",
      "61\n",
      "62\n",
      "63\n",
      "64\n",
      "buzz\n",
      "66\n",
      "67\n",
      "68\n",
      "69\n",
      "buzz\n",
      "71\n",
      "72\n",
      "73\n",
      "74\n",
      "fizzbuzz\n",
      "76\n",
      "77\n",
      "78\n",
      "79\n",
      "buzz\n",
      "81\n",
      "82\n",
      "83\n",
      "84\n",
      "buzz\n",
      "86\n",
      "87\n",
      "88\n",
      "89\n",
      "fizzbuzz\n",
      "91\n",
      "92\n",
      "93\n",
      "94\n",
      "buzz\n",
      "96\n",
      "97\n",
      "98\n",
      "99\n",
      "buzz\n"
     ]
    }
   ],
   "source": [
    "for n in range(1,101):\n",
    "    if  n % 3 == 0 and n % 5 == 0:\n",
    "        print(\"fizzbuzz\")\n",
    "    elif n % 5 == 0:\n",
    "        print(\"buzz\")\n",
    "    elif n % 5 == 0:\n",
    "        print(\"fizz\")\n",
    "    else:\n",
    "        print(n)"
   ]
  },
  {
   "cell_type": "markdown",
   "id": "45ef92c0",
   "metadata": {},
   "source": [
    "##### EX4: Password generator"
   ]
  },
  {
   "cell_type": "code",
   "execution_count": 143,
   "id": "990203b4",
   "metadata": {},
   "outputs": [
    {
     "name": "stdout",
     "output_type": "stream",
     "text": [
      "['1', '2', '3', '4', '5', '6', '7', '8', '9', '0']\n"
     ]
    }
   ],
   "source": [
    "symbols = \"1 2 3 4 5 6 7 8 9 0\"\n",
    "letter = symbols.split()\n",
    "print(letter)"
   ]
  },
  {
   "cell_type": "code",
   "execution_count": 148,
   "id": "0219d8b1",
   "metadata": {},
   "outputs": [
    {
     "name": "stdout",
     "output_type": "stream",
     "text": [
      "Welcome to the pypassword generator\n",
      "How many letters will you like in your password: 5\n",
      "How many letters will you like in your password: 3\n",
      "How many numbers will you like in your password: 1\n",
      "A\n",
      "E\n",
      "f\n",
      "i\n",
      "M\n"
     ]
    }
   ],
   "source": [
    "import random\n",
    "letters = ['a', 'b', 'c', 'd', 'e', 'f', 'g', 'h', 'i', 'j', 'k', 'l', 'm', \n",
    "          'n', 'o', 'p', 'q', 'r', 's', 't', 'u', 'v', 'w', 'x', 'y', 'z',\n",
    "          'A', 'B', 'C', 'D', 'E', 'F', 'G', 'H', 'I', 'J', 'K', 'L', 'M',\n",
    "          'N', 'O', 'P', 'Q', 'R', 'S', 'T', 'U', 'V', 'W', 'X', 'Y', 'Z']\n",
    "\n",
    "symbols = ['!', '#', '$', '%', '&', '(', ')', '*', '+']\n",
    "\n",
    "numbers = ['1', '2', '3', '4', '5', '6', '7', '8', '9', '0']\n",
    "\n",
    "print('Welcome to the pypassword generator')\n",
    "n_letters = int(input('How many letters will you like in your password: '))\n",
    "n_symbols = int(input('How many letters will you like in your password: '))\n",
    "n_numbers = int(input('How many numbers will you like in your password: '))\n",
    "\n",
    "password = \"\"\n",
    "for char in range(1,n_letters+1):\n",
    "    ran_num = random.choice(letters)\n",
    "    print(ran_num)\n",
    "    "
   ]
  },
  {
   "cell_type": "code",
   "execution_count": null,
   "id": "64d34701",
   "metadata": {},
   "outputs": [],
   "source": []
  }
 ],
 "metadata": {
  "kernelspec": {
   "display_name": "Python 3 (ipykernel)",
   "language": "python",
   "name": "python3"
  },
  "language_info": {
   "codemirror_mode": {
    "name": "ipython",
    "version": 3
   },
   "file_extension": ".py",
   "mimetype": "text/x-python",
   "name": "python",
   "nbconvert_exporter": "python",
   "pygments_lexer": "ipython3",
   "version": "3.9.7"
  }
 },
 "nbformat": 4,
 "nbformat_minor": 5
}
